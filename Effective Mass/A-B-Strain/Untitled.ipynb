{
 "cells": [
  {
   "cell_type": "code",
   "execution_count": 4,
   "id": "bc8af23d",
   "metadata": {},
   "outputs": [
    {
     "name": "stdout",
     "output_type": "stream",
     "text": [
      "Data has been successfully extracted and written to effmass_data.csv\n"
     ]
    }
   ],
   "source": [
    "import csv\n",
    "import re\n",
    "\n",
    "# Define the input and output file paths\n",
    "input_file = 'effmass.txt'\n",
    "output_file = 'effmass_data.csv'\n",
    "\n",
    "# Open the input file and read the contents\n",
    "with open(input_file, 'r') as f:\n",
    "    lines = f.readlines()\n",
    "\n",
    "# Prepare the CSV headers\n",
    "headers = ['Strain', 'Particle', 'Band Index', 'Direction', 'Least Squares m* (m_e)', 'Finite Difference m* (m_e)']\n",
    "data = []\n",
    "\n",
    "# Initialize variables\n",
    "strain = None\n",
    "in_table = False\n",
    "\n",
    "# Process each line in the file\n",
    "for line in lines:\n",
    "    # Look for strain lines and capture the strain value\n",
    "    strain_match = re.match(r'Strain:\\s*([+-]?\\d*\\.*\\d+)\\s*%', line)\n",
    "    if strain_match:\n",
    "        strain = strain_match.group(1)\n",
    "        in_table = False  # Reset when a new strain section starts\n",
    "    \n",
    "    # Start processing the data tables after the header lines\n",
    "    if in_table:\n",
    "        # Skip the header lines in each table\n",
    "        if 'particle' in line.lower():\n",
    "            continue\n",
    "\n",
    "        # Extract data rows for particle, band-index, direction, least squares, and finite difference\n",
    "        data_match = re.match(r'\\|\\s*(\\w+)\\s*\\|\\s*(\\d+)\\s*\\|\\s*\\[([^\\]]+)\\]\\s*\\|\\s*([-\\d.]+)\\s*\\|\\s*([-\\d.]+)\\s*\\|', line)\n",
    "        if data_match:\n",
    "            particle = data_match.group(1)\n",
    "            band_index = data_match.group(2)\n",
    "            direction = data_match.group(3)\n",
    "            least_squares = data_match.group(4)\n",
    "            finite_diff = data_match.group(5)\n",
    "\n",
    "            # Append the extracted data with the strain value\n",
    "            data.append([strain, particle, band_index, direction, least_squares, finite_diff])\n",
    "    \n",
    "    # Detect when a table starts\n",
    "    if '+----------+' in line:\n",
    "        in_table = True\n",
    "\n",
    "# Write the collected data to a CSV file\n",
    "with open(output_file, 'w', newline='') as csvfile:\n",
    "    csvwriter = csv.writer(csvfile)\n",
    "    csvwriter.writerow(headers)  # Write the header\n",
    "    csvwriter.writerows(data)  # Write the data rows\n",
    "\n",
    "print(f\"Data has been successfully extracted and written to {output_file}\")\n"
   ]
  },
  {
   "cell_type": "code",
   "execution_count": 3,
   "id": "72ec01f0",
   "metadata": {},
   "outputs": [
    {
     "name": "stdout",
     "output_type": "stream",
     "text": [
      "An error occurred: name 'effmass_data' is not defined\n"
     ]
    }
   ],
   "source": [
    "import os\n",
    "\n",
    "# Define the file path\n",
    "file_path = 'effmass_data.csv'\n",
    "\n",
    "# Check if file exists and delete it before creating a new one\n",
    "if os.path.exists(file_path):\n",
    "    try:\n",
    "        os.remove(file_path)  # Remove the file if it exists to avoid permission issues\n",
    "    except PermissionError as e:\n",
    "        print(f\"Permission denied while trying to delete the file: {e}\")\n",
    "        # Handle the error, perhaps with a retry mechanism or different filename\n",
    "        file_path = 'effmass_data_new.csv'  # Change filename if permission error occurs\n",
    "\n",
    "# Now attempt to write the file\n",
    "try:\n",
    "    # Your existing code for writing to the file\n",
    "    with open(file_path, 'w', newline='') as file:\n",
    "        writer = csv.writer(file)\n",
    "        writer.writerow(['Strain', 'Effective Mass'])  # Example header\n",
    "        # Add your data rows\n",
    "        for data in effmass_data:\n",
    "            writer.writerow(data)\n",
    "except PermissionError as e:\n",
    "    print(f\"Permission denied: {e}\")\n",
    "    # You could add a fallback to try writing to a different location or file\n",
    "except Exception as e:\n",
    "    print(f\"An error occurred: {e}\")\n"
   ]
  },
  {
   "cell_type": "code",
   "execution_count": null,
   "id": "a0a8052d",
   "metadata": {},
   "outputs": [],
   "source": []
  }
 ],
 "metadata": {
  "kernelspec": {
   "display_name": "Python 3 (ipykernel)",
   "language": "python",
   "name": "python3"
  },
  "language_info": {
   "codemirror_mode": {
    "name": "ipython",
    "version": 3
   },
   "file_extension": ".py",
   "mimetype": "text/x-python",
   "name": "python",
   "nbconvert_exporter": "python",
   "pygments_lexer": "ipython3",
   "version": "3.9.7"
  }
 },
 "nbformat": 4,
 "nbformat_minor": 5
}
