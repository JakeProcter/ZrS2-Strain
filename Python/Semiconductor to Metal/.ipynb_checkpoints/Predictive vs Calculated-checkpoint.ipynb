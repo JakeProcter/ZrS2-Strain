{
 "cells": [
  {
   "cell_type": "code",
   "execution_count": 3,
   "id": "8bce8544",
   "metadata": {},
   "outputs": [
    {
     "name": "stdout",
     "output_type": "stream",
     "text": [
      "Data extracted, updated, and saved to C:\\Users\\jeepr\\Documents\\1. Physics\\Year 3\\Disertation\\DFT\\Python\\Semiconductor to Metal\\extracted_data_updated.csv\n"
     ]
    }
   ],
   "source": [
    "import os\n",
    "import re\n",
    "import pandas as pd\n",
    "import matplotlib.pyplot as plt\n",
    "\n",
    "existing_csv_path = r\"C:\\Users\\jeepr\\Documents\\1. Physics\\Year 3\\Disertation\\DFT\\Python\\Band Structure Calcs\\extracted_data.csv\"\n",
    "new_aims_file_path = r\"C:\\Users\\jeepr\\Documents\\1. Physics\\Year 3\\Disertation\\DFT\\Semiconductor to Metal\\Semiconductor_to_metal\\aims.out\"\n",
    "\n",
    "current_directory = os.getcwd()\n",
    "updated_csv_path = os.path.join(current_directory, 'extracted_data_updated.csv')\n",
    "\n",
    "def extract_data(file_path):\n",
    "    homo_lumo = None\n",
    "    total_energy = None\n",
    "    total_time = None\n",
    "    \n",
    "    with open(file_path, 'r') as file:\n",
    "        for line in file:\n",
    "            if 'HOMO-LUMO gap' in line:\n",
    "                match = re.search(r'HOMO-LUMO gap:\\s+([\\d\\.]+)', line)\n",
    "                if match:\n",
    "                    homo_lumo = float(match.group(1))\n",
    "            elif '| Total energy of the DFT / Hartree-Fock s.c.f. calculation' in line:\n",
    "                match = re.search(r'\\| Total energy of the DFT / Hartree-Fock s\\.c\\.f\\. calculation\\s+:\\s+([-\\d\\.]+)', line)\n",
    "                if match:\n",
    "                    total_energy = float(match.group(1))\n",
    "            elif '| Total time' in line:\n",
    "                match = re.search(r'\\| Total time\\s+:\\s+([\\d\\.]+)', line)\n",
    "                if match:\n",
    "                    total_time = float(match.group(1))\n",
    "    \n",
    "    return homo_lumo, total_energy, total_time\n",
    "\n",
    "existing_data = pd.read_csv(existing_csv_path)\n",
    "\n",
    "homo_lumo, total_energy, total_time = extract_data(new_aims_file_path)\n",
    "\n",
    "new_data = {\n",
    "    'Strain': \"-12.34%\",\n",
    "    'HOMO-LUMO': homo_lumo,\n",
    "    'Total Energy': total_energy,\n",
    "    'Total Time': total_time\n",
    "}\n",
    "\n",
    "updated_data = existing_data.append(new_data, ignore_index=True)\n",
    "\n",
    "updated_data.to_csv(updated_csv_path, index=False)\n",
    "\n",
    "print(f\"Data extracted, updated, and saved to {updated_csv_path}\")"
   ]
  },
  {
   "cell_type": "code",
   "execution_count": null,
   "id": "3b29b258",
   "metadata": {},
   "outputs": [],
   "source": []
  }
 ],
 "metadata": {
  "kernelspec": {
   "display_name": "Python 3 (ipykernel)",
   "language": "python",
   "name": "python3"
  },
  "language_info": {
   "codemirror_mode": {
    "name": "ipython",
    "version": 3
   },
   "file_extension": ".py",
   "mimetype": "text/x-python",
   "name": "python",
   "nbconvert_exporter": "python",
   "pygments_lexer": "ipython3",
   "version": "3.9.7"
  }
 },
 "nbformat": 4,
 "nbformat_minor": 5
}
