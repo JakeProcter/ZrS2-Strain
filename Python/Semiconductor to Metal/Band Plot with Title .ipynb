{
 "cells": [
  {
   "cell_type": "code",
   "execution_count": 3,
   "id": "6b278f77",
   "metadata": {},
   "outputs": [
    {
     "name": "stdout",
     "output_type": "stream",
     "text": [
      "Saved: C:\\Users\\jeepr\\Documents\\1. Physics\\Year 3\\Disertation\\DFT\\Python\\Semiconductor to Metal\\labeled_aimsplot.png\n",
      "\n",
      "The labeled image has been saved successfully!\n"
     ]
    }
   ],
   "source": [
    "from PIL import Image, ImageDraw, ImageFont\n",
    "import os\n",
    "\n",
    "current_dir = os.getcwd()\n",
    "\n",
    "image_path = r\"C:\\Users\\jeepr\\Documents\\1. Physics\\Year 3\\Disertation\\DFT\\Semiconductor to Metal\\Semiconductor_to_metal\\aimsplot.png\"\n",
    "\n",
    "if not os.path.exists(image_path):\n",
    "    print(f\"Warning: {image_path} not found.\")\n",
    "else:\n",
    "    img = Image.open(image_path).convert(\"RGB\")\n",
    "    width, height = img.size\n",
    "    \n",
    "    title_height = 80\n",
    "    new_img = Image.new(\"RGB\", (width, height + title_height), \"white\")\n",
    "    new_img.paste(img, (0, title_height))\n",
    "    \n",
    "    draw = ImageDraw.Draw(new_img)\n",
    "    \n",
    "    # Label text\n",
    "    text = \"Band Structure of Predicted Semiconductor to Metal Transition Point at 12.34%\"\n",
    "    \n",
    "    try:\n",
    "        font = ImageFont.truetype(\"arialbd.ttf\", 40)\n",
    "    except IOError:\n",
    "        font = ImageFont.load_default()\n",
    "    \n",
    "    text_width, text_height = draw.textsize(text, font=font)\n",
    "    text_position = ((width - text_width) // 2, (title_height - text_height) // 2)\n",
    "    \n",
    "    draw.text(text_position, text, font=font, fill=(0, 0, 0))\n",
    "    \n",
    "    underline_y = text_position[1] + text_height + 5\n",
    "    draw.line((text_position[0], underline_y, text_position[0] + text_width, underline_y), fill=(0, 0, 0), width=3)\n",
    "    \n",
    "    output_path = os.path.join(current_dir, \"labeled_aimsplot.png\")\n",
    "    new_img.save(output_path)\n",
    "    \n",
    "    print(f\"Saved: {output_path}\")\n",
    "\n",
    "print(\"\\nThe labeled image has been saved successfully!\")"
   ]
  },
  {
   "cell_type": "code",
   "execution_count": null,
   "id": "33544073",
   "metadata": {},
   "outputs": [],
   "source": []
  }
 ],
 "metadata": {
  "kernelspec": {
   "display_name": "Python 3 (ipykernel)",
   "language": "python",
   "name": "python3"
  },
  "language_info": {
   "codemirror_mode": {
    "name": "ipython",
    "version": 3
   },
   "file_extension": ".py",
   "mimetype": "text/x-python",
   "name": "python",
   "nbconvert_exporter": "python",
   "pygments_lexer": "ipython3",
   "version": "3.9.7"
  }
 },
 "nbformat": 4,
 "nbformat_minor": 5
}
