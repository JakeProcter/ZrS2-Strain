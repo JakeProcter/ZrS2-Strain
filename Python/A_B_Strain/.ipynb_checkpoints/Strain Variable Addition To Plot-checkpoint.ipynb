{
 "cells": [
  {
   "cell_type": "code",
   "execution_count": 3,
   "id": "ad8026b5",
   "metadata": {},
   "outputs": [
    {
     "name": "stdout",
     "output_type": "stream",
     "text": [
      "Saved: C:\\Users\\jeepr\\Documents\\1. Physics\\Year 3\\Disertation\\DFT\\Python\\A_B_Strain\\Processed_Plots\\+8 Percent_labeled.png\n",
      "Saved: C:\\Users\\jeepr\\Documents\\1. Physics\\Year 3\\Disertation\\DFT\\Python\\A_B_Strain\\Processed_Plots\\+7 Percent_labeled.png\n",
      "Saved: C:\\Users\\jeepr\\Documents\\1. Physics\\Year 3\\Disertation\\DFT\\Python\\A_B_Strain\\Processed_Plots\\+6 Percent_labeled.png\n",
      "Saved: C:\\Users\\jeepr\\Documents\\1. Physics\\Year 3\\Disertation\\DFT\\Python\\A_B_Strain\\Processed_Plots\\+5 Percent_labeled.png\n",
      "Saved: C:\\Users\\jeepr\\Documents\\1. Physics\\Year 3\\Disertation\\DFT\\Python\\A_B_Strain\\Processed_Plots\\+4 Percent_labeled.png\n",
      "Saved: C:\\Users\\jeepr\\Documents\\1. Physics\\Year 3\\Disertation\\DFT\\Python\\A_B_Strain\\Processed_Plots\\+3 Percent_labeled.png\n",
      "Saved: C:\\Users\\jeepr\\Documents\\1. Physics\\Year 3\\Disertation\\DFT\\Python\\A_B_Strain\\Processed_Plots\\+2 Percent_labeled.png\n",
      "Saved: C:\\Users\\jeepr\\Documents\\1. Physics\\Year 3\\Disertation\\DFT\\Python\\A_B_Strain\\Processed_Plots\\+1 Percent_labeled.png\n",
      "Saved: C:\\Users\\jeepr\\Documents\\1. Physics\\Year 3\\Disertation\\DFT\\Python\\A_B_Strain\\Processed_Plots\\+0 Percent_labeled.png\n",
      "Saved: C:\\Users\\jeepr\\Documents\\1. Physics\\Year 3\\Disertation\\DFT\\Python\\A_B_Strain\\Processed_Plots\\-1 Percent_labeled.png\n",
      "Saved: C:\\Users\\jeepr\\Documents\\1. Physics\\Year 3\\Disertation\\DFT\\Python\\A_B_Strain\\Processed_Plots\\-2 Percent_labeled.png\n",
      "Saved: C:\\Users\\jeepr\\Documents\\1. Physics\\Year 3\\Disertation\\DFT\\Python\\A_B_Strain\\Processed_Plots\\-3 Percent_labeled.png\n",
      "Saved: C:\\Users\\jeepr\\Documents\\1. Physics\\Year 3\\Disertation\\DFT\\Python\\A_B_Strain\\Processed_Plots\\-4 Percent_labeled.png\n",
      "Saved: C:\\Users\\jeepr\\Documents\\1. Physics\\Year 3\\Disertation\\DFT\\Python\\A_B_Strain\\Processed_Plots\\-6 Percent_labeled.png\n",
      "Saved: C:\\Users\\jeepr\\Documents\\1. Physics\\Year 3\\Disertation\\DFT\\Python\\A_B_Strain\\Processed_Plots\\-7 Percent_labeled.png\n",
      "Saved: C:\\Users\\jeepr\\Documents\\1. Physics\\Year 3\\Disertation\\DFT\\Python\\A_B_Strain\\Processed_Plots\\-8 Percent_labeled.png\n",
      "\n",
      "All labeled images have been saved successfully!\n"
     ]
    }
   ],
   "source": [
    "from PIL import Image, ImageDraw, ImageFont\n",
    "import os\n",
    "\n",
    "plots_path = r\"C:\\Users\\jeepr\\Documents\\1. Physics\\Year 3\\Disertation\\DFT\\A-B-Strain\\Plots\"\n",
    "\n",
    "plot_names = [\n",
    "    \"+8 Percent\", \"+7 Percent\", \"+6 Percent\", \"+5 Percent\", \"+4 Percent\", \"+3 Percent\", \"+2 Percent\", \n",
    "    \"+1 Percent\", \"+0 Percent\", \"-1 Percent\", \"-2 Percent\", \"-3 Percent\", \"-4 Percent\",\n",
    "    \"-6 Percent\", \"-7 Percent\", \"-8 Percent\"\n",
    "]\n",
    "\n",
    "output_folder = r\"C:\\Users\\jeepr\\Documents\\1. Physics\\Year 3\\Disertation\\DFT\\Python\\A_B_Strain\\Processed_Plots\"\n",
    "os.makedirs(output_folder, exist_ok=True)\n",
    "\n",
    "for plot_name in plot_names:\n",
    "    \n",
    "    image_path = os.path.join(plots_path, f\"{plot_name}.png\")\n",
    "    \n",
    "    if not os.path.exists(image_path):\n",
    "        print(f\"Warning: {image_path} not found, skipping...\")\n",
    "        continue\n",
    "    \n",
    "    img = Image.open(image_path).convert(\"RGB\")\n",
    "    width, height = img.size\n",
    "    \n",
    "    title_height = 80\n",
    "    new_img = Image.new(\"RGB\", (width, height + title_height), \"white\")\n",
    "    new_img.paste(img, (0, title_height))\n",
    "    \n",
    "    draw = ImageDraw.Draw(new_img)\n",
    "    \n",
    "    formatted_plot_name = plot_name.replace(\" Percent\", \"%\")\n",
    "    \n",
    "    text = f\"Electronic Band Structure of ZrS2 Under {formatted_plot_name} Strain on A & B Axis\"\n",
    "    \n",
    "    try:\n",
    "        font = ImageFont.truetype(\"arialbd.ttf\", 40)\n",
    "    except IOError:\n",
    "        font = ImageFont.load_default()\n",
    "\n",
    "    text_width, text_height = draw.textsize(text, font=font)\n",
    "    text_position = ((width - text_width) // 2, (title_height - text_height) // 2)\n",
    "    \n",
    "    draw.text(text_position, text, font=font, fill=(0, 0, 0))\n",
    "    \n",
    "    underline_y = text_position[1] + text_height + 5\n",
    "    draw.line((text_position[0], underline_y, text_position[0] + text_width, underline_y), fill=(0, 0, 0), width=3)\n",
    "    \n",
    "    output_path = os.path.join(output_folder, f\"{plot_name}_labeled.png\")\n",
    "    new_img.save(output_path)\n",
    "    print(f\"Saved: {output_path}\")\n",
    "\n",
    "print(\"\\nAll labeled images have been saved successfully!\")"
   ]
  },
  {
   "cell_type": "code",
   "execution_count": null,
   "id": "8816db3c",
   "metadata": {},
   "outputs": [],
   "source": []
  }
 ],
 "metadata": {
  "kernelspec": {
   "display_name": "Python 3 (ipykernel)",
   "language": "python",
   "name": "python3"
  },
  "language_info": {
   "codemirror_mode": {
    "name": "ipython",
    "version": 3
   },
   "file_extension": ".py",
   "mimetype": "text/x-python",
   "name": "python",
   "nbconvert_exporter": "python",
   "pygments_lexer": "ipython3",
   "version": "3.9.7"
  }
 },
 "nbformat": 4,
 "nbformat_minor": 5
}
