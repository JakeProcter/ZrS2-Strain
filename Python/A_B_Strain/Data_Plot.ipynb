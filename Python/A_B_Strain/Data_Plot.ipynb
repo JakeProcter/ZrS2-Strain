{
 "cells": [
  {
   "cell_type": "code",
   "execution_count": 1,
   "id": "509d5117",
   "metadata": {},
   "outputs": [
    {
     "name": "stdout",
     "output_type": "stream",
     "text": [
      "Plots have been saved in: C:\\Users\\jeepr\\Documents\\1. Physics\\Year 3\\Disertation\\DFT\\Python\\A_B_Strain\\Strained Plots\n"
     ]
    }
   ],
   "source": [
    "import pandas as pd \n",
    "import matplotlib.pyplot as plt\n",
    "import os\n",
    "\n",
    "# Use current working directory instead of hardcoded path\n",
    "base_dir = os.getcwd()\n",
    "output_folder = os.path.join(base_dir, 'Strained Plots')\n",
    "os.makedirs(output_folder, exist_ok=True)\n",
    "\n",
    "# Define font size for research-quality plots\n",
    "font_size = 16\n",
    "\n",
    "df = pd.read_csv(os.path.join(base_dir, 'extracted_data.csv'))\n",
    "df['Strain'] = df['Strain'].apply(lambda x: float(x.replace('percent', '').replace('+', '')))\n",
    "\n",
    "# Plot 1: Strain vs HOMO-LUMO\n",
    "plt.figure(figsize=(10, 6))\n",
    "plt.plot(df['Strain'], df['HOMO-LUMO'], marker='o', color='b')\n",
    "plt.xlabel('Strain (%)', fontsize=font_size)\n",
    "plt.ylabel('HOMO-LUMO', fontsize=font_size)\n",
    "plt.xticks(fontsize=font_size)\n",
    "plt.yticks(fontsize=font_size)\n",
    "plt.grid(True)\n",
    "plt.tight_layout()\n",
    "plt.savefig(os.path.join(output_folder, 'A_B_strain_vs_HOMO_LUMO.png'))\n",
    "plt.close()\n",
    "\n",
    "# Plot 2: Strain vs Total Energy\n",
    "plt.figure(figsize=(10, 6))\n",
    "plt.plot(df['Strain'], df['Total Energy'], marker='s', color='r')\n",
    "plt.xlabel('Strain (%)', fontsize=font_size)\n",
    "plt.ylabel('Total Energy (eV)', fontsize=font_size)\n",
    "plt.xticks(fontsize=font_size)\n",
    "plt.yticks(fontsize=font_size)\n",
    "plt.grid(True)\n",
    "plt.tight_layout()\n",
    "plt.savefig(os.path.join(output_folder, 'A_B_strain_vs_total_energy.png'))\n",
    "plt.close()\n",
    "\n",
    "# Plot 3: Strain vs Total Time\n",
    "plt.figure(figsize=(10, 6))\n",
    "plt.plot(df['Strain'], df['Total Time'], marker='^', color='g')\n",
    "plt.xlabel('Strain (%)', fontsize=font_size)\n",
    "plt.ylabel('Total Time (s)', fontsize=font_size)\n",
    "plt.xticks(fontsize=font_size)\n",
    "plt.yticks(fontsize=font_size)\n",
    "plt.grid(True)\n",
    "plt.tight_layout()\n",
    "plt.savefig(os.path.join(output_folder, 'A_B_strain_vs_total_time.png'))\n",
    "plt.close()\n",
    "\n",
    "print(\"Plots have been saved in:\", output_folder)\n"
   ]
  },
  {
   "cell_type": "code",
   "execution_count": null,
   "id": "f02376dd",
   "metadata": {},
   "outputs": [],
   "source": []
  }
 ],
 "metadata": {
  "kernelspec": {
   "display_name": "Python 3 (ipykernel)",
   "language": "python",
   "name": "python3"
  },
  "language_info": {
   "codemirror_mode": {
    "name": "ipython",
    "version": 3
   },
   "file_extension": ".py",
   "mimetype": "text/x-python",
   "name": "python",
   "nbconvert_exporter": "python",
   "pygments_lexer": "ipython3",
   "version": "3.9.7"
  }
 },
 "nbformat": 4,
 "nbformat_minor": 5
}
