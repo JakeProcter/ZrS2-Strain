{
 "cells": [
  {
   "cell_type": "code",
   "execution_count": 1,
   "id": "90a3b175",
   "metadata": {},
   "outputs": [
    {
     "name": "stdout",
     "output_type": "stream",
     "text": [
      "Data extracted and saved to C:\\Users\\jeepr\\Documents\\1. Physics\\Year 3\\Disertation\\DFT\\Python\\Convergence Tests\\extracted_data.csv\n"
     ]
    }
   ],
   "source": [
    "import os\n",
    "import re\n",
    "import pandas as pd\n",
    "\n",
    "# Define the path where the convergence test results are stored\n",
    "results_path = r\"C:\\Users\\jeepr\\Documents\\1. Physics\\Year 3\\Disertation\\DFT\\Convergence Tests\\Results\"\n",
    "\n",
    "output_data = []\n",
    "\n",
    "def extract_data(file_path):\n",
    "    homo_lumo = None\n",
    "    total_energy = None\n",
    "    total_time = None\n",
    "\n",
    "    with open(file_path, 'r') as file:\n",
    "        for line in file:\n",
    "            # HOMO-LUMO\n",
    "            if 'HOMO-LUMO gap' in line:\n",
    "                match = re.search(r'HOMO-LUMO gap:\\s+([\\d\\.]+)', line)\n",
    "                if match:\n",
    "                    homo_lumo = float(match.group(1))\n",
    "\n",
    "            # Total Energy\n",
    "            elif '| Total energy of the DFT / Hartree-Fock s.c.f. calculation' in line:\n",
    "                match = re.search(r'\\| Total energy of the DFT / Hartree-Fock s\\.c\\.f\\. calculation\\s+:\\s+([\\-\\d\\.]+)', line)\n",
    "                if match:\n",
    "                    total_energy = float(match.group(1))\n",
    "\n",
    "            # Total Time\n",
    "            elif '| Total time' in line:\n",
    "                match = re.search(r'\\| Total time\\s+:\\s+([\\d\\.]+)', line)\n",
    "                if match:\n",
    "                    total_time = float(match.group(1))\n",
    "\n",
    "    return homo_lumo, total_energy, total_time\n",
    "\n",
    "# Walk through the results directory\n",
    "for root, dirs, files in os.walk(results_path):\n",
    "    for file in files:\n",
    "        if file.startswith('aims') and file.endswith('.out'):\n",
    "            \n",
    "            file_path = os.path.join(root, file)\n",
    "\n",
    "            # Get relative path for categorization\n",
    "            relative_path = os.path.relpath(root, results_path)\n",
    "            folder_names = relative_path.split(os.sep)\n",
    "\n",
    "            homo_lumo, total_energy, total_time = extract_data(file_path)\n",
    "\n",
    "            output_data.append({\n",
    "                'PBE/HSE': folder_names[0] if len(folder_names) > 0 else None,\n",
    "                'Category': folder_names[1] if len(folder_names) > 1 else None,\n",
    "                'File': file,\n",
    "                'HOMO-LUMO': homo_lumo,\n",
    "                'Total Energy': total_energy,\n",
    "                'Total Time': total_time\n",
    "            })\n",
    "\n",
    "output_df = pd.DataFrame(output_data)\n",
    "\n",
    "# Define the output path in the new script location\n",
    "output_csv_path = r\"C:\\Users\\jeepr\\Documents\\1. Physics\\Year 3\\Disertation\\DFT\\Python\\Convergence Tests\\extracted_data.csv\"\n",
    "output_df.to_csv(output_csv_path, index=False)\n",
    "\n",
    "print(f\"Data extracted and saved to {output_csv_path}\")\n"
   ]
  },
  {
   "cell_type": "code",
   "execution_count": null,
   "id": "df96517d",
   "metadata": {},
   "outputs": [],
   "source": []
  }
 ],
 "metadata": {
  "kernelspec": {
   "display_name": "Python 3 (ipykernel)",
   "language": "python",
   "name": "python3"
  },
  "language_info": {
   "codemirror_mode": {
    "name": "ipython",
    "version": 3
   },
   "file_extension": ".py",
   "mimetype": "text/x-python",
   "name": "python",
   "nbconvert_exporter": "python",
   "pygments_lexer": "ipython3",
   "version": "3.9.7"
  }
 },
 "nbformat": 4,
 "nbformat_minor": 5
}
