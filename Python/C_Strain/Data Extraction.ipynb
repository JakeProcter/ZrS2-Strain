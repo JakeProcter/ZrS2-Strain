{
 "cells": [
  {
   "cell_type": "code",
   "execution_count": 3,
   "id": "57777fb2",
   "metadata": {},
   "outputs": [
    {
     "name": "stdout",
     "output_type": "stream",
     "text": [
      "Data extracted and saved to C:\\Users\\jeepr\\Documents\\1. Physics\\Year 3\\Disertation\\DFT\\Python\\Band Structure Calcs\\extracted_data.csv\n"
     ]
    }
   ],
   "source": [
    "import os\n",
    "import re\n",
    "import pandas as pd\n",
    "\n",
    "data_path = r\"C:\\Users\\jeepr\\Documents\\1. Physics\\Year 3\\Disertation\\DFT\\Strained_Geometry_Band_Structure\"\n",
    "\n",
    "strain_folders = [\n",
    "    \"+8percent\", \"+7percent\", \"+6percent\", \"+5percent\", \"+4percent\", \"+3percent\", \"+2percent\", \"+1percent\", \"+0percent\",\n",
    "    \"-1percent\", \"-2percent\", \"-3percent\", \"-4percent\", \"-6percent\", \"-7percent\", \"-8percent\"\n",
    "]\n",
    "\n",
    "output_data = []\n",
    "\n",
    "def extract_data(file_path):\n",
    "    homo_lumo = None\n",
    "    total_energy = None\n",
    "    total_time = None\n",
    "    \n",
    "    with open(file_path, 'r') as file:\n",
    "        for line in file:\n",
    "            \n",
    "            if 'HOMO-LUMO gap' in line:\n",
    "                match = re.search(r'HOMO-LUMO gap:\\s+([\\d\\.]+)', line)\n",
    "                if match:\n",
    "                    homo_lumo = float(match.group(1))\n",
    "            \n",
    "            elif '| Total energy of the DFT / Hartree-Fock s.c.f. calculation' in line:\n",
    "                match = re.search(r'\\| Total energy of the DFT / Hartree-Fock s\\.c\\.f\\. calculation\\s+:\\s+([-\\d\\.]+)', line)\n",
    "                if match:\n",
    "                    total_energy = float(match.group(1))\n",
    "            \n",
    "            elif '| Total time' in line:\n",
    "                match = re.search(r'\\| Total time\\s+:\\s+([\\d\\.]+)', line)\n",
    "                if match:\n",
    "                    total_time = float(match.group(1))\n",
    "    \n",
    "    return homo_lumo, total_energy, total_time\n",
    "\n",
    "for folder in strain_folders:\n",
    "    folder_path = os.path.join(data_path, folder)\n",
    "    \n",
    "    if os.path.exists(folder_path):\n",
    "        aims_file_path = os.path.join(folder_path, 'aims.out')\n",
    "        \n",
    "        if os.path.exists(aims_file_path):\n",
    "            homo_lumo, total_energy, total_time = extract_data(aims_file_path)\n",
    "            \n",
    "            output_data.append({\n",
    "                'Strain': folder,\n",
    "                'HOMO-LUMO': homo_lumo,\n",
    "                'Total Energy': total_energy,\n",
    "                'Total Time': total_time\n",
    "            })\n",
    "\n",
    "output_df = pd.DataFrame(output_data)\n",
    "\n",
    "output_csv_path = r\"C:\\Users\\jeepr\\Documents\\1. Physics\\Year 3\\Disertation\\DFT\\Python\\Band Structure Calcs\\extracted_data.csv\"\n",
    "output_df.to_csv(output_csv_path, index=False)\n",
    "\n",
    "print(f\"Data extracted and saved to {output_csv_path}\")"
   ]
  },
  {
   "cell_type": "code",
   "execution_count": null,
   "id": "8c288c51",
   "metadata": {},
   "outputs": [],
   "source": []
  }
 ],
 "metadata": {
  "kernelspec": {
   "display_name": "Python 3 (ipykernel)",
   "language": "python",
   "name": "python3"
  },
  "language_info": {
   "codemirror_mode": {
    "name": "ipython",
    "version": 3
   },
   "file_extension": ".py",
   "mimetype": "text/x-python",
   "name": "python",
   "nbconvert_exporter": "python",
   "pygments_lexer": "ipython3",
   "version": "3.9.7"
  }
 },
 "nbformat": 4,
 "nbformat_minor": 5
}
