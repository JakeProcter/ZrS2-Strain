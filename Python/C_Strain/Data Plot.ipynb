{
 "cells": [
  {
   "cell_type": "code",
   "execution_count": 2,
   "id": "94e2df9f",
   "metadata": {},
   "outputs": [
    {
     "name": "stdout",
     "output_type": "stream",
     "text": [
      "Plots have been saved in: C:\\Users\\jeepr\\Documents\\1. Physics\\Year 3\\Disertation\\DFT\\Python\\Band Structure Calcs\\Strained Plots\n"
     ]
    }
   ],
   "source": [
    "import pandas as pd \n",
    "import matplotlib.pyplot as plt\n",
    "import os\n",
    "\n",
    "base_dir = r'C:\\Users\\jeepr\\Documents\\1. Physics\\Year 3\\Disertation\\DFT\\Python\\Band Structure Calcs'\n",
    "output_folder = os.path.join(base_dir, 'Strained Plots')\n",
    "os.makedirs(output_folder, exist_ok=True)\n",
    "df = pd.read_csv(os.path.join(base_dir, 'extracted_data.csv'))\n",
    "df['Strain'] = df['Strain'].apply(lambda x: float(x.replace('percent', '').replace('+', '')))\n",
    "\n",
    "# Plot 1: Strain vs HOMO-LUMO\n",
    "plt.figure(figsize=(10, 6))\n",
    "plt.plot(df['Strain'], df['HOMO-LUMO'], marker='o', color='b', label='HOMO-LUMO')\n",
    "plt.title('Strain vs HOMO-LUMO')\n",
    "plt.xlabel('Strain (%)')\n",
    "plt.ylabel('HOMO-LUMO')\n",
    "plt.grid(True)\n",
    "plt.savefig(os.path.join(output_folder, 'strain_vs_HOMO_LUMO.png'))\n",
    "plt.close()\n",
    "\n",
    "# Plot 2: Strain vs Total Energy\n",
    "plt.figure(figsize=(10, 6))\n",
    "plt.plot(df['Strain'], df['Total Energy'], marker='s', color='r', label='Total Energy')\n",
    "plt.title('Strain vs Total Energy')\n",
    "plt.xlabel('Strain (%)')\n",
    "plt.ylabel('Total Energy (eV)')\n",
    "plt.grid(True)\n",
    "plt.savefig(os.path.join(output_folder, 'strain_vs_total_energy.png'))\n",
    "plt.close()\n",
    "\n",
    "# Plot 3: Strain vs Total Time\n",
    "plt.figure(figsize=(10, 6))\n",
    "plt.plot(df['Strain'], df['Total Time'], marker='^', color='g', label='Total Time')\n",
    "plt.title('Strain vs Total Time')\n",
    "plt.xlabel('Strain (%)')\n",
    "plt.ylabel('Total Time (s)')\n",
    "plt.grid(True)\n",
    "plt.savefig(os.path.join(output_folder, 'strain_vs_total_time.png'))\n",
    "plt.close()\n",
    "\n",
    "print(\"Plots have been saved in:\", output_folder)"
   ]
  },
  {
   "cell_type": "code",
   "execution_count": 2,
   "id": "8220396f",
   "metadata": {},
   "outputs": [
    {
     "name": "stdout",
     "output_type": "stream",
     "text": [
      "Plots have been saved in: C:\\Users\\jeepr\\Documents\\1. Physics\\Year 3\\Disertation\\DFT\\Python\\C_Strain\\Strained Plots\n"
     ]
    }
   ],
   "source": [
    "import pandas as pd \n",
    "import matplotlib.pyplot as plt\n",
    "import os\n",
    "\n",
    "# Use current working directory instead of hardcoded path\n",
    "base_dir = os.getcwd()\n",
    "output_folder = os.path.join(base_dir, 'Strained Plots')\n",
    "os.makedirs(output_folder, exist_ok=True)\n",
    "\n",
    "# Define font size for research-quality plots\n",
    "font_size = 16\n",
    "\n",
    "df = pd.read_csv(os.path.join(base_dir, 'extracted_data.csv'))\n",
    "df['Strain'] = df['Strain'].apply(lambda x: float(x.replace('percent', '').replace('+', '')))\n",
    "\n",
    "# Plot 1: Strain vs HOMO-LUMO\n",
    "plt.figure(figsize=(10, 6))\n",
    "plt.plot(df['Strain'], df['HOMO-LUMO'], marker='o', color='b')\n",
    "plt.xlabel('Strain (%)', fontsize=font_size)\n",
    "plt.ylabel('HOMO-LUMO', fontsize=font_size)\n",
    "plt.xticks(fontsize=font_size)\n",
    "plt.yticks(fontsize=font_size)\n",
    "plt.grid(True)\n",
    "plt.tight_layout()\n",
    "plt.savefig(os.path.join(output_folder, 'C_strain_vs_HOMO_LUMO.png'))\n",
    "plt.close()\n",
    "\n",
    "# Plot 2: Strain vs Total Energy\n",
    "plt.figure(figsize=(10, 6))\n",
    "plt.plot(df['Strain'], df['Total Energy'], marker='s', color='r')\n",
    "plt.xlabel('Strain (%)', fontsize=font_size)\n",
    "plt.ylabel('Total Energy (eV)', fontsize=font_size)\n",
    "plt.xticks(fontsize=font_size)\n",
    "plt.yticks(fontsize=font_size)\n",
    "plt.grid(True)\n",
    "plt.tight_layout()\n",
    "plt.savefig(os.path.join(output_folder, 'C_strain_vs_total_energy.png'))\n",
    "plt.close()\n",
    "\n",
    "# Plot 3: Strain vs Total Time\n",
    "plt.figure(figsize=(10, 6))\n",
    "plt.plot(df['Strain'], df['Total Time'], marker='^', color='g')\n",
    "plt.xlabel('Strain (%)', fontsize=font_size)\n",
    "plt.ylabel('Total Time (s)', fontsize=font_size)\n",
    "plt.xticks(fontsize=font_size)\n",
    "plt.yticks(fontsize=font_size)\n",
    "plt.grid(True)\n",
    "plt.tight_layout()\n",
    "plt.savefig(os.path.join(output_folder, 'C_strain_vs_total_time.png'))\n",
    "plt.close()\n",
    "\n",
    "print(\"Plots have been saved in:\", output_folder)\n"
   ]
  }
 ],
 "metadata": {
  "kernelspec": {
   "display_name": "Python 3 (ipykernel)",
   "language": "python",
   "name": "python3"
  },
  "language_info": {
   "codemirror_mode": {
    "name": "ipython",
    "version": 3
   },
   "file_extension": ".py",
   "mimetype": "text/x-python",
   "name": "python",
   "nbconvert_exporter": "python",
   "pygments_lexer": "ipython3",
   "version": "3.9.7"
  }
 },
 "nbformat": 4,
 "nbformat_minor": 5
}
