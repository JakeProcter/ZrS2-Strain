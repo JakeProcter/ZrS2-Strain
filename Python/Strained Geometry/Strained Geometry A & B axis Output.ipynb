{
 "cells": [
  {
   "cell_type": "code",
   "execution_count": 3,
   "id": "325b363c",
   "metadata": {},
   "outputs": [
    {
     "name": "stdout",
     "output_type": "stream",
     "text": [
      "Written: C:\\Users\\jeepr\\Documents\\1. Physics\\Year 3\\Disertation\\DFT\\Python\\Strained Geometry\\Strained_Geometries_ab_axis\\-8percent\\geometry.in\n",
      "Written: C:\\Users\\jeepr\\Documents\\1. Physics\\Year 3\\Disertation\\DFT\\Python\\Strained Geometry\\Strained_Geometries_ab_axis\\-7percent\\geometry.in\n",
      "Written: C:\\Users\\jeepr\\Documents\\1. Physics\\Year 3\\Disertation\\DFT\\Python\\Strained Geometry\\Strained_Geometries_ab_axis\\-6percent\\geometry.in\n",
      "Written: C:\\Users\\jeepr\\Documents\\1. Physics\\Year 3\\Disertation\\DFT\\Python\\Strained Geometry\\Strained_Geometries_ab_axis\\-5percent\\geometry.in\n",
      "Written: C:\\Users\\jeepr\\Documents\\1. Physics\\Year 3\\Disertation\\DFT\\Python\\Strained Geometry\\Strained_Geometries_ab_axis\\-4percent\\geometry.in\n",
      "Written: C:\\Users\\jeepr\\Documents\\1. Physics\\Year 3\\Disertation\\DFT\\Python\\Strained Geometry\\Strained_Geometries_ab_axis\\-3percent\\geometry.in\n",
      "Written: C:\\Users\\jeepr\\Documents\\1. Physics\\Year 3\\Disertation\\DFT\\Python\\Strained Geometry\\Strained_Geometries_ab_axis\\-2percent\\geometry.in\n",
      "Written: C:\\Users\\jeepr\\Documents\\1. Physics\\Year 3\\Disertation\\DFT\\Python\\Strained Geometry\\Strained_Geometries_ab_axis\\-1percent\\geometry.in\n",
      "Written: C:\\Users\\jeepr\\Documents\\1. Physics\\Year 3\\Disertation\\DFT\\Python\\Strained Geometry\\Strained_Geometries_ab_axis\\+0percent\\geometry.in\n",
      "Written: C:\\Users\\jeepr\\Documents\\1. Physics\\Year 3\\Disertation\\DFT\\Python\\Strained Geometry\\Strained_Geometries_ab_axis\\+1percent\\geometry.in\n",
      "Written: C:\\Users\\jeepr\\Documents\\1. Physics\\Year 3\\Disertation\\DFT\\Python\\Strained Geometry\\Strained_Geometries_ab_axis\\+2percent\\geometry.in\n",
      "Written: C:\\Users\\jeepr\\Documents\\1. Physics\\Year 3\\Disertation\\DFT\\Python\\Strained Geometry\\Strained_Geometries_ab_axis\\+3percent\\geometry.in\n",
      "Written: C:\\Users\\jeepr\\Documents\\1. Physics\\Year 3\\Disertation\\DFT\\Python\\Strained Geometry\\Strained_Geometries_ab_axis\\+4percent\\geometry.in\n",
      "Written: C:\\Users\\jeepr\\Documents\\1. Physics\\Year 3\\Disertation\\DFT\\Python\\Strained Geometry\\Strained_Geometries_ab_axis\\+5percent\\geometry.in\n",
      "Written: C:\\Users\\jeepr\\Documents\\1. Physics\\Year 3\\Disertation\\DFT\\Python\\Strained Geometry\\Strained_Geometries_ab_axis\\+6percent\\geometry.in\n",
      "Written: C:\\Users\\jeepr\\Documents\\1. Physics\\Year 3\\Disertation\\DFT\\Python\\Strained Geometry\\Strained_Geometries_ab_axis\\+7percent\\geometry.in\n",
      "Written: C:\\Users\\jeepr\\Documents\\1. Physics\\Year 3\\Disertation\\DFT\\Python\\Strained Geometry\\Strained_Geometries_ab_axis\\+8percent\\geometry.in\n"
     ]
    }
   ],
   "source": [
    "import os\n",
    "import numpy as np\n",
    "\n",
    "input_file = r\"C:\\Users\\jeepr\\Documents\\1. Physics\\Year 3\\Disertation\\DFT\\geometry.in\"\n",
    "output_base = r\"C:\\Users\\jeepr\\Documents\\1. Physics\\Year 3\\Disertation\\DFT\\Python\\Strained Geometry\\Strained_Geometries_ab_axis\"\n",
    "\n",
    "os.makedirs(output_base, exist_ok=True)\n",
    "\n",
    "def parse_geometry(file_path):\n",
    "    lattice_vectors = []\n",
    "    with open(file_path, 'r') as file:\n",
    "        lines = file.readlines()\n",
    "        for line in lines:\n",
    "            if line.startswith(\"lattice_vector\"):\n",
    "                lattice_vectors.append([float(x) for x in line.split()[1:]])\n",
    "    return np.array(lattice_vectors), lines\n",
    "\n",
    "def write_geometry(file_path, lattice_vectors, lines):\n",
    "    with open(file_path, 'w') as file:\n",
    "        lattice_idx = 0\n",
    "        for line in lines:\n",
    "            if line.startswith(\"lattice_vector\"):\n",
    "                formatted_vector = ' '.join(f\"{x:.16f}\" for x in lattice_vectors[lattice_idx])\n",
    "                file.write(f\"lattice_vector {formatted_vector}\\n\")\n",
    "                lattice_idx += 1\n",
    "            else:\n",
    "                file.write(line)\n",
    "\n",
    "def generate_scaled_files(input_file):\n",
    "    lattice_vectors, original_lines = parse_geometry(input_file)\n",
    "    a_axis = lattice_vectors[0]\n",
    "    b_axis = lattice_vectors[1]\n",
    "    \n",
    "    for i in range(-8, 9):  # -8% to +8% in integer steps\n",
    "        scale_factor = 1 + (i / 100.0)\n",
    "        new_a_axis = a_axis * scale_factor\n",
    "        new_b_axis = b_axis * scale_factor\n",
    "        new_lattice_vectors = lattice_vectors.copy()\n",
    "        new_lattice_vectors[0] = new_a_axis\n",
    "        new_lattice_vectors[1] = new_b_axis\n",
    "        \n",
    "        folder_name = os.path.join(output_base, f\"{i:+d}percent\")\n",
    "\n",
    "        os.makedirs(folder_name, exist_ok=True)\n",
    "        \n",
    "        output_file = os.path.join(folder_name, \"geometry.in\")\n",
    "        write_geometry(output_file, new_lattice_vectors, original_lines)\n",
    "        print(f\"Written: {output_file}\")\n",
    "\n",
    "generate_scaled_files(input_file)\n"
   ]
  },
  {
   "cell_type": "code",
   "execution_count": null,
   "id": "b4cc8e2c",
   "metadata": {},
   "outputs": [],
   "source": []
  },
  {
   "cell_type": "code",
   "execution_count": null,
   "id": "423e4767",
   "metadata": {},
   "outputs": [],
   "source": []
  }
 ],
 "metadata": {
  "kernelspec": {
   "display_name": "Python 3 (ipykernel)",
   "language": "python",
   "name": "python3"
  },
  "language_info": {
   "codemirror_mode": {
    "name": "ipython",
    "version": 3
   },
   "file_extension": ".py",
   "mimetype": "text/x-python",
   "name": "python",
   "nbconvert_exporter": "python",
   "pygments_lexer": "ipython3",
   "version": "3.9.7"
  }
 },
 "nbformat": 4,
 "nbformat_minor": 5
}
