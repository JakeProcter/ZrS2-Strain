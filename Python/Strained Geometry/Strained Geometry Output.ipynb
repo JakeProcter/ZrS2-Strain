{
 "cells": [
  {
   "cell_type": "code",
   "execution_count": 2,
   "id": "d716a2be",
   "metadata": {},
   "outputs": [
    {
     "name": "stdout",
     "output_type": "stream",
     "text": [
      "Written: C:\\Users\\jeepr\\Documents\\1. Physics\\Year 3\\Disertation\\DFT\\Python\\Strained Geometry\\Strained_Geometries\\+8 Percent\\geometry.in\n",
      "Written: C:\\Users\\jeepr\\Documents\\1. Physics\\Year 3\\Disertation\\DFT\\Python\\Strained Geometry\\Strained_Geometries\\-7percent\\geometry.in\n",
      "Written: C:\\Users\\jeepr\\Documents\\1. Physics\\Year 3\\Disertation\\DFT\\Python\\Strained Geometry\\Strained_Geometries\\-6percent\\geometry.in\n",
      "Written: C:\\Users\\jeepr\\Documents\\1. Physics\\Year 3\\Disertation\\DFT\\Python\\Strained Geometry\\Strained_Geometries\\-5percent\\geometry.in\n",
      "Written: C:\\Users\\jeepr\\Documents\\1. Physics\\Year 3\\Disertation\\DFT\\Python\\Strained Geometry\\Strained_Geometries\\-4percent\\geometry.in\n",
      "Written: C:\\Users\\jeepr\\Documents\\1. Physics\\Year 3\\Disertation\\DFT\\Python\\Strained Geometry\\Strained_Geometries\\-3percent\\geometry.in\n",
      "Written: C:\\Users\\jeepr\\Documents\\1. Physics\\Year 3\\Disertation\\DFT\\Python\\Strained Geometry\\Strained_Geometries\\-2percent\\geometry.in\n",
      "Written: C:\\Users\\jeepr\\Documents\\1. Physics\\Year 3\\Disertation\\DFT\\Python\\Strained Geometry\\Strained_Geometries\\-1percent\\geometry.in\n",
      "Written: C:\\Users\\jeepr\\Documents\\1. Physics\\Year 3\\Disertation\\DFT\\Python\\Strained Geometry\\Strained_Geometries\\+0percent\\geometry.in\n",
      "Written: C:\\Users\\jeepr\\Documents\\1. Physics\\Year 3\\Disertation\\DFT\\Python\\Strained Geometry\\Strained_Geometries\\+1percent\\geometry.in\n",
      "Written: C:\\Users\\jeepr\\Documents\\1. Physics\\Year 3\\Disertation\\DFT\\Python\\Strained Geometry\\Strained_Geometries\\+2percent\\geometry.in\n",
      "Written: C:\\Users\\jeepr\\Documents\\1. Physics\\Year 3\\Disertation\\DFT\\Python\\Strained Geometry\\Strained_Geometries\\+3percent\\geometry.in\n",
      "Written: C:\\Users\\jeepr\\Documents\\1. Physics\\Year 3\\Disertation\\DFT\\Python\\Strained Geometry\\Strained_Geometries\\+4percent\\geometry.in\n",
      "Written: C:\\Users\\jeepr\\Documents\\1. Physics\\Year 3\\Disertation\\DFT\\Python\\Strained Geometry\\Strained_Geometries\\+5percent\\geometry.in\n",
      "Written: C:\\Users\\jeepr\\Documents\\1. Physics\\Year 3\\Disertation\\DFT\\Python\\Strained Geometry\\Strained_Geometries\\+6percent\\geometry.in\n",
      "Written: C:\\Users\\jeepr\\Documents\\1. Physics\\Year 3\\Disertation\\DFT\\Python\\Strained Geometry\\Strained_Geometries\\+7percent\\geometry.in\n",
      "Written: C:\\Users\\jeepr\\Documents\\1. Physics\\Year 3\\Disertation\\DFT\\Python\\Strained Geometry\\Strained_Geometries\\-8 Percent\\geometry.in\n"
     ]
    }
   ],
   "source": [
    "import os\n",
    "import numpy as np\n",
    "\n",
    "# Define paths\n",
    "input_file = r\"C:\\Users\\jeepr\\Documents\\1. Physics\\Year 3\\Disertation\\DFT\\geometry.in\"\n",
    "output_base = r\"C:\\Users\\jeepr\\Documents\\1. Physics\\Year 3\\Disertation\\DFT\\Python\\Strained Geometry\\Strained_Geometries\"\n",
    "\n",
    "# Ensure output directory exists\n",
    "os.makedirs(output_base, exist_ok=True)\n",
    "\n",
    "def parse_geometry(file_path):\n",
    "    lattice_vectors = []\n",
    "    with open(file_path, 'r') as file:\n",
    "        lines = file.readlines()\n",
    "        for line in lines:\n",
    "            if line.startswith(\"lattice_vector\"):\n",
    "                lattice_vectors.append([float(x) for x in line.split()[1:]])\n",
    "    return np.array(lattice_vectors), lines\n",
    "\n",
    "# Function to write the modified lattice vectors back to file\n",
    "def write_geometry(file_path, lattice_vectors, lines):\n",
    "    with open(file_path, 'w') as file:\n",
    "        lattice_idx = 0  # Index to track lattice_vector lines\n",
    "        for line in lines:\n",
    "            if line.startswith(\"lattice_vector\"):\n",
    "                formatted_vector = ' '.join(f\"{x:.16f}\" for x in lattice_vectors[lattice_idx])\n",
    "                file.write(f\"lattice_vector {formatted_vector}\\n\")\n",
    "                lattice_idx += 1\n",
    "            else:\n",
    "                file.write(line)\n",
    "\n",
    "# Function to generate scaled files in separate folders\n",
    "def generate_scaled_files(input_file):\n",
    "    lattice_vectors, original_lines = parse_geometry(input_file)\n",
    "    c_axis = lattice_vectors[2]\n",
    "    \n",
    "    for i in range(-8, 9):  # -8% to +8% in integer steps\n",
    "        scale_factor = 1 + (i / 100.0)\n",
    "        new_c_axis = c_axis * scale_factor\n",
    "        new_lattice_vectors = lattice_vectors.copy()\n",
    "        new_lattice_vectors[2] = new_c_axis\n",
    "\n",
    "        # Adjust the folder name for reversed percentages\n",
    "        if i == 8:\n",
    "            folder_name = os.path.join(output_base, f\"-8 Percent\")\n",
    "        elif i == -8:\n",
    "            folder_name = os.path.join(output_base, f\"+8 Percent\")\n",
    "        else:\n",
    "            folder_name = os.path.join(output_base, f\"{i:+d}percent\")\n",
    "\n",
    "        os.makedirs(folder_name, exist_ok=True)\n",
    "        \n",
    "        # Save the geometry file in the folder\n",
    "        output_file = os.path.join(folder_name, \"geometry.in\")\n",
    "        write_geometry(output_file, new_lattice_vectors, original_lines)\n",
    "        print(f\"Written: {output_file}\")\n",
    "\n",
    "# Call the function with the input file\n",
    "generate_scaled_files(input_file)\n"
   ]
  },
  {
   "cell_type": "code",
   "execution_count": null,
   "id": "d6514fa5",
   "metadata": {},
   "outputs": [],
   "source": []
  }
 ],
 "metadata": {
  "kernelspec": {
   "display_name": "Python 3 (ipykernel)",
   "language": "python",
   "name": "python3"
  },
  "language_info": {
   "codemirror_mode": {
    "name": "ipython",
    "version": 3
   },
   "file_extension": ".py",
   "mimetype": "text/x-python",
   "name": "python",
   "nbconvert_exporter": "python",
   "pygments_lexer": "ipython3",
   "version": "3.9.7"
  }
 },
 "nbformat": 4,
 "nbformat_minor": 5
}
