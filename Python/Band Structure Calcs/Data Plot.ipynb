{
 "cells": [
  {
   "cell_type": "code",
   "execution_count": 1,
   "id": "fda40545",
   "metadata": {},
   "outputs": [],
   "source": [
    "import pandas as pd\n",
    "import matplotlib.pyplot as plt\n",
    "import os\n",
    "\n",
    "df = pd.read_csv('extracted_data.csv')\n",
    "\n",
    "# percentages to numerical values\n",
    "df['Strain'] = df['Strain'].apply(lambda x: float(x.replace('percent', '').replace('+', '')))\n",
    "\n",
    "# Plot 1: Strain vs HOMO-LUMO\n",
    "plt.figure(figsize=(10, 6))\n",
    "plt.plot(df['Strain'], df['HOMO-LUMO'], marker='o', color='b', label='HOMO-LUMO')\n",
    "plt.title('Strain vs HOMO-LUMO')\n",
    "plt.xlabel('Strain (%)')\n",
    "plt.ylabel('HOMO-LUMO')\n",
    "plt.grid(True)\n",
    "plt.savefig(os.path.join(os.getcwd(), 'strain_vs_HOMO_LUMO.png'))\n",
    "plt.close()\n",
    "\n",
    "# Plot 2: Strain vs Total Energy\n",
    "plt.figure(figsize=(10, 6))\n",
    "plt.plot(df['Strain'], df['Total Energy'], marker='s', color='r', label='Total Energy')\n",
    "plt.title('Strain vs Total Energy')\n",
    "plt.xlabel('Strain (%)')\n",
    "plt.ylabel('Total Energy (eV)')\n",
    "plt.grid(True)\n",
    "plt.savefig(os.path.join(os.getcwd(), 'strain_vs_total_energy.png'))\n",
    "plt.close()\n",
    "\n",
    "# Plot 3: Strain vs Total Time\n",
    "plt.figure(figsize=(10, 6))\n",
    "plt.plot(df['Strain'], df['Total Time'], marker='^', color='g', label='Total Time')\n",
    "plt.title('Strain vs Total Time')\n",
    "plt.xlabel('Strain (%)')\n",
    "plt.ylabel('Total Time (s)')\n",
    "plt.grid(True)\n",
    "plt.savefig(os.path.join(os.getcwd(), 'strain_vs_total_time.png'))\n",
    "plt.close()"
   ]
  },
  {
   "cell_type": "code",
   "execution_count": null,
   "id": "81ce3644",
   "metadata": {},
   "outputs": [],
   "source": []
  }
 ],
 "metadata": {
  "kernelspec": {
   "display_name": "Python 3 (ipykernel)",
   "language": "python",
   "name": "python3"
  },
  "language_info": {
   "codemirror_mode": {
    "name": "ipython",
    "version": 3
   },
   "file_extension": ".py",
   "mimetype": "text/x-python",
   "name": "python",
   "nbconvert_exporter": "python",
   "pygments_lexer": "ipython3",
   "version": "3.9.7"
  }
 },
 "nbformat": 4,
 "nbformat_minor": 5
}
