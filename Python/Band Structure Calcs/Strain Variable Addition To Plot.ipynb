{
 "cells": [
  {
   "cell_type": "code",
   "execution_count": 2,
   "id": "1e3afb3f",
   "metadata": {},
   "outputs": [
    {
     "name": "stdout",
     "output_type": "stream",
     "text": [
      "Saved: C:\\Users\\jeepr\\Documents\\1. Physics\\Year 3\\Disertation\\DFT\\Python\\Band Structure Calcs\\Processed_Plots\\+8 Percent_labeled.png\n",
      "Saved: C:\\Users\\jeepr\\Documents\\1. Physics\\Year 3\\Disertation\\DFT\\Python\\Band Structure Calcs\\Processed_Plots\\+7 Percent_labeled.png\n",
      "Saved: C:\\Users\\jeepr\\Documents\\1. Physics\\Year 3\\Disertation\\DFT\\Python\\Band Structure Calcs\\Processed_Plots\\+6 Percent_labeled.png\n",
      "Saved: C:\\Users\\jeepr\\Documents\\1. Physics\\Year 3\\Disertation\\DFT\\Python\\Band Structure Calcs\\Processed_Plots\\+5 Percent_labeled.png\n",
      "Saved: C:\\Users\\jeepr\\Documents\\1. Physics\\Year 3\\Disertation\\DFT\\Python\\Band Structure Calcs\\Processed_Plots\\+4 Percent_labeled.png\n",
      "Saved: C:\\Users\\jeepr\\Documents\\1. Physics\\Year 3\\Disertation\\DFT\\Python\\Band Structure Calcs\\Processed_Plots\\+3 Percent_labeled.png\n",
      "Saved: C:\\Users\\jeepr\\Documents\\1. Physics\\Year 3\\Disertation\\DFT\\Python\\Band Structure Calcs\\Processed_Plots\\+2 Percent_labeled.png\n",
      "Saved: C:\\Users\\jeepr\\Documents\\1. Physics\\Year 3\\Disertation\\DFT\\Python\\Band Structure Calcs\\Processed_Plots\\+1 Percent_labeled.png\n",
      "Saved: C:\\Users\\jeepr\\Documents\\1. Physics\\Year 3\\Disertation\\DFT\\Python\\Band Structure Calcs\\Processed_Plots\\+0 Percent_labeled.png\n",
      "Saved: C:\\Users\\jeepr\\Documents\\1. Physics\\Year 3\\Disertation\\DFT\\Python\\Band Structure Calcs\\Processed_Plots\\-1 Percent_labeled.png\n",
      "Saved: C:\\Users\\jeepr\\Documents\\1. Physics\\Year 3\\Disertation\\DFT\\Python\\Band Structure Calcs\\Processed_Plots\\-2 Percent_labeled.png\n",
      "Saved: C:\\Users\\jeepr\\Documents\\1. Physics\\Year 3\\Disertation\\DFT\\Python\\Band Structure Calcs\\Processed_Plots\\-3 Percent_labeled.png\n",
      "Saved: C:\\Users\\jeepr\\Documents\\1. Physics\\Year 3\\Disertation\\DFT\\Python\\Band Structure Calcs\\Processed_Plots\\-4 Percent_labeled.png\n",
      "Saved: C:\\Users\\jeepr\\Documents\\1. Physics\\Year 3\\Disertation\\DFT\\Python\\Band Structure Calcs\\Processed_Plots\\-6 Percent_labeled.png\n",
      "Saved: C:\\Users\\jeepr\\Documents\\1. Physics\\Year 3\\Disertation\\DFT\\Python\\Band Structure Calcs\\Processed_Plots\\-7 Percent_labeled.png\n",
      "Saved: C:\\Users\\jeepr\\Documents\\1. Physics\\Year 3\\Disertation\\DFT\\Python\\Band Structure Calcs\\Processed_Plots\\-8 Percent_labeled.png\n",
      "\n",
      "All labeled images have been saved successfully!\n"
     ]
    }
   ],
   "source": [
    "from PIL import Image, ImageDraw, ImageFont\n",
    "import os\n",
    "\n",
    "# Define the path where the plot images are stored\n",
    "plots_path = r\"C:\\Users\\jeepr\\Documents\\1. Physics\\Year 3\\Disertation\\DFT\\Strained_Geometry_Band_Structure\\Plots\"\n",
    "\n",
    "# Define the filenames of the plots\n",
    "plot_names = [\n",
    "    \"+8 Percent\", \"+7 Percent\", \"+6 Percent\", \"+5 Percent\", \"+4 Percent\", \"+3 Percent\", \"+2 Percent\", \n",
    "    \"+1 Percent\", \"+0 Percent\", \"-1 Percent\", \"-2 Percent\", \"-3 Percent\", \"-4 Percent\",\n",
    "    \"-6 Percent\", \"-7 Percent\", \"-8 Percent\"\n",
    "]\n",
    "\n",
    "# Define the output folder for processed images in the new script location\n",
    "output_folder = r\"C:\\Users\\jeepr\\Documents\\1. Physics\\Year 3\\Disertation\\DFT\\Python\\Band Structure Calcs\\Processed_Plots\"\n",
    "os.makedirs(output_folder, exist_ok=True)\n",
    "\n",
    "# Loop over each plot name, load the image, add text, and save it\n",
    "for plot_name in plot_names:\n",
    "    # Define the image path in the original plots directory\n",
    "    image_path = os.path.join(plots_path, f\"{plot_name}.png\")\n",
    "    \n",
    "    if not os.path.exists(image_path):\n",
    "        print(f\"Warning: {image_path} not found, skipping...\")\n",
    "        continue\n",
    "    \n",
    "    img = Image.open(image_path).convert(\"RGB\")  # Convert to RGB mode\n",
    "\n",
    "    # Create a draw object to add text\n",
    "    draw = ImageDraw.Draw(img)\n",
    "    \n",
    "    # Define the text you want to add (the percentage)\n",
    "    text = plot_name.split()[0]  # Extract the percentage value (e.g., '+8')\n",
    "    \n",
    "    # Define font and size\n",
    "    try:\n",
    "        font = ImageFont.truetype(\"arial.ttf\", 40)  # Try to use Arial font\n",
    "    except IOError:\n",
    "        font = ImageFont.load_default()  # Use default if Arial is not available\n",
    "    \n",
    "    # Define the text position (top-left corner)\n",
    "    text_position = (20, 20)  # Adjust as needed\n",
    "\n",
    "    # Add text in black color\n",
    "    draw.text(text_position, text, font=font, fill=(0, 0, 0))  # Black text\n",
    "    \n",
    "    # Save the modified image to the new processed folder\n",
    "    output_path = os.path.join(output_folder, f\"{plot_name}_labeled.png\")\n",
    "    img.save(output_path)\n",
    "    print(f\"Saved: {output_path}\")\n",
    "\n",
    "print(\"\\nAll labeled images have been saved successfully!\")\n"
   ]
  },
  {
   "cell_type": "code",
   "execution_count": null,
   "id": "b59d76d2",
   "metadata": {},
   "outputs": [],
   "source": []
  }
 ],
 "metadata": {
  "kernelspec": {
   "display_name": "Python 3 (ipykernel)",
   "language": "python",
   "name": "python3"
  },
  "language_info": {
   "codemirror_mode": {
    "name": "ipython",
    "version": 3
   },
   "file_extension": ".py",
   "mimetype": "text/x-python",
   "name": "python",
   "nbconvert_exporter": "python",
   "pygments_lexer": "ipython3",
   "version": "3.9.7"
  }
 },
 "nbformat": 4,
 "nbformat_minor": 5
}
