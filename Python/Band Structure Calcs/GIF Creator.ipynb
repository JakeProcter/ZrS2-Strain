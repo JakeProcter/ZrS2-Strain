{
 "cells": [
  {
   "cell_type": "code",
   "execution_count": 2,
   "id": "ee25c407",
   "metadata": {},
   "outputs": [
    {
     "name": "stdout",
     "output_type": "stream",
     "text": [
      "GIFs have been created and saved.\n"
     ]
    }
   ],
   "source": [
    "import imageio\n",
    "import os\n",
    "\n",
    "image_folder = r'C:\\Users\\jeepr\\Documents\\1. Physics\\Year 3\\Disertation\\DFT\\Python\\Band Structure Calcs\\Processed_Plots'\n",
    "output_folder = r'C:\\Users\\jeepr\\Documents\\1. Physics\\Year 3\\Disertation\\DFT\\Python\\Band Structure Calcs\\Band Structure Plot Gifs'\n",
    "\n",
    "os.makedirs(output_folder, exist_ok=True)\n",
    "\n",
    "gif_1_images = [\n",
    "    '+0 Percent_labeled.png', '+1 Percent_labeled.png', '+2 Percent_labeled.png', '+3 Percent_labeled.png',\n",
    "    '+4 Percent_labeled.png', '+5 Percent_labeled.png', '+6 Percent_labeled.png', '+7 Percent_labeled.png',\n",
    "    '+8 Percent_labeled.png'\n",
    "]\n",
    "\n",
    "gif_2_images = [\n",
    "    '+0 Percent_labeled.png', '-1 Percent_labeled.png', '-2 Percent_labeled.png', '-3 Percent_labeled.png',\n",
    "    '-4 Percent_labeled.png', '-6 Percent_labeled.png', '-7 Percent_labeled.png', '-8 Percent_labeled.png'\n",
    "]\n",
    "\n",
    "gif_3_images = [\n",
    "    '-8 Percent_labeled.png', '-7 Percent_labeled.png', '-6 Percent_labeled.png', '-4 Percent_labeled.png',\n",
    "    '-3 Percent_labeled.png', '-2 Percent_labeled.png', '-1 Percent_labeled.png', '+0 Percent_labeled.png',\n",
    "    '+1 Percent_labeled.png', '+2 Percent_labeled.png', '+3 Percent_labeled.png', '+4 Percent_labeled.png',\n",
    "    '+5 Percent_labeled.png', '+6 Percent_labeled.png', '+7 Percent_labeled.png', '+8 Percent_labeled.png'\n",
    "]\n",
    "\n",
    "\n",
    "def create_gif(image_list, gif_name):\n",
    "    with imageio.get_writer(os.path.join(output_folder, gif_name), mode='I', duration=0.5) as writer:\n",
    "        for img_name in image_list:\n",
    "            img_path = os.path.join(image_folder, img_name)\n",
    "            writer.append_data(imageio.imread(img_path))\n",
    "\n",
    "create_gif(gif_1_images, 'gif_1_0_to_+8_percent.gif')\n",
    "create_gif(gif_2_images, 'gif_2_0_to_-8_percent.gif')\n",
    "create_gif(gif_3_images, 'gif_3_-8_to_+8_percent.gif')\n",
    "\n",
    "print(\"GIFs have been created and saved.\")"
   ]
  },
  {
   "cell_type": "code",
   "execution_count": null,
   "id": "1082ef22",
   "metadata": {},
   "outputs": [],
   "source": []
  }
 ],
 "metadata": {
  "kernelspec": {
   "display_name": "Python 3 (ipykernel)",
   "language": "python",
   "name": "python3"
  },
  "language_info": {
   "codemirror_mode": {
    "name": "ipython",
    "version": 3
   },
   "file_extension": ".py",
   "mimetype": "text/x-python",
   "name": "python",
   "nbconvert_exporter": "python",
   "pygments_lexer": "ipython3",
   "version": "3.9.7"
  }
 },
 "nbformat": 4,
 "nbformat_minor": 5
}
